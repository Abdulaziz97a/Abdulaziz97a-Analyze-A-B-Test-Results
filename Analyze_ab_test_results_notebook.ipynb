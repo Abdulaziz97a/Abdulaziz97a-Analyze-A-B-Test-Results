{
 "cells": [
  {
   "cell_type": "markdown",
   "metadata": {},
   "source": [
    "## Analyze A/B Test Results\n",
    "\n",
    "This project will assure you have mastered the subjects covered in the statistics lessons.  The hope is to have this project be as comprehensive of these topics as possible.  Good luck!\n",
    "\n",
    "## Table of Contents\n",
    "- [Introduction](#intro)\n",
    "- [Part I - Probability](#probability)\n",
    "- [Part II - A/B Test](#ab_test)\n",
    "- [Part III - Regression](#regression)\n",
    "\n",
    "\n",
    "<a id='intro'></a>\n",
    "### Introduction\n",
    "\n",
    "A/B tests are very commonly performed by data analysts and data scientists.  It is important that you get some practice working with the difficulties of these \n",
    "\n",
    "For this project, you will be working to understand the results of an A/B test run by an e-commerce website.  Your goal is to work through this notebook to help the company understand if they should implement the new page, keep the old page, or perhaps run the experiment longer to make their decision.\n",
    "\n",
    "**As you work through this notebook, follow along in the classroom and answer the corresponding quiz questions associated with each question.** The labels for each classroom concept are provided for each question.  This will assure you are on the right track as you work through the project, and you can feel more confident in your final submission meeting the criteria.  As a final check, assure you meet all the criteria on the [RUBRIC](https://review.udacity.com/#!/projects/37e27304-ad47-4eb0-a1ab-8c12f60e43d0/rubric).\n",
    "\n",
    "<a id='probability'></a>\n",
    "#### Part I - Probability\n",
    "\n",
    "To get started, let's import our libraries."
   ]
  },
  {
   "cell_type": "code",
   "execution_count": 41,
   "metadata": {},
   "outputs": [],
   "source": [
    "import pandas as pd\n",
    "import numpy as np\n",
    "import random\n",
    "import matplotlib.pyplot as plt\n",
    "%matplotlib inline\n",
    "#We are setting the seed to assure you get the same answers on quizzes as we set up\n",
    "random.seed(42)"
   ]
  },
  {
   "cell_type": "markdown",
   "metadata": {},
   "source": [
    "`1.` Now, read in the `ab_data.csv` data. Store it in `df`.  **Use your dataframe to answer the questions in Quiz 1 of the classroom.**\n",
    "\n",
    "a. Read in the dataset and take a look at the top few rows here:"
   ]
  },
  {
   "cell_type": "code",
   "execution_count": 42,
   "metadata": {},
   "outputs": [
    {
     "data": {
      "text/html": [
       "<div>\n",
       "<style scoped>\n",
       "    .dataframe tbody tr th:only-of-type {\n",
       "        vertical-align: middle;\n",
       "    }\n",
       "\n",
       "    .dataframe tbody tr th {\n",
       "        vertical-align: top;\n",
       "    }\n",
       "\n",
       "    .dataframe thead th {\n",
       "        text-align: right;\n",
       "    }\n",
       "</style>\n",
       "<table border=\"1\" class=\"dataframe\">\n",
       "  <thead>\n",
       "    <tr style=\"text-align: right;\">\n",
       "      <th></th>\n",
       "      <th>user_id</th>\n",
       "      <th>timestamp</th>\n",
       "      <th>group</th>\n",
       "      <th>landing_page</th>\n",
       "      <th>converted</th>\n",
       "    </tr>\n",
       "  </thead>\n",
       "  <tbody>\n",
       "    <tr>\n",
       "      <th>0</th>\n",
       "      <td>851104</td>\n",
       "      <td>2017-01-21 22:11:48.556739</td>\n",
       "      <td>control</td>\n",
       "      <td>old_page</td>\n",
       "      <td>0</td>\n",
       "    </tr>\n",
       "    <tr>\n",
       "      <th>1</th>\n",
       "      <td>804228</td>\n",
       "      <td>2017-01-12 08:01:45.159739</td>\n",
       "      <td>control</td>\n",
       "      <td>old_page</td>\n",
       "      <td>0</td>\n",
       "    </tr>\n",
       "    <tr>\n",
       "      <th>2</th>\n",
       "      <td>661590</td>\n",
       "      <td>2017-01-11 16:55:06.154213</td>\n",
       "      <td>treatment</td>\n",
       "      <td>new_page</td>\n",
       "      <td>0</td>\n",
       "    </tr>\n",
       "    <tr>\n",
       "      <th>3</th>\n",
       "      <td>853541</td>\n",
       "      <td>2017-01-08 18:28:03.143765</td>\n",
       "      <td>treatment</td>\n",
       "      <td>new_page</td>\n",
       "      <td>0</td>\n",
       "    </tr>\n",
       "    <tr>\n",
       "      <th>4</th>\n",
       "      <td>864975</td>\n",
       "      <td>2017-01-21 01:52:26.210827</td>\n",
       "      <td>control</td>\n",
       "      <td>old_page</td>\n",
       "      <td>1</td>\n",
       "    </tr>\n",
       "  </tbody>\n",
       "</table>\n",
       "</div>"
      ],
      "text/plain": [
       "   user_id                   timestamp      group landing_page  converted\n",
       "0   851104  2017-01-21 22:11:48.556739    control     old_page          0\n",
       "1   804228  2017-01-12 08:01:45.159739    control     old_page          0\n",
       "2   661590  2017-01-11 16:55:06.154213  treatment     new_page          0\n",
       "3   853541  2017-01-08 18:28:03.143765  treatment     new_page          0\n",
       "4   864975  2017-01-21 01:52:26.210827    control     old_page          1"
      ]
     },
     "execution_count": 42,
     "metadata": {},
     "output_type": "execute_result"
    }
   ],
   "source": [
    "df = pd.read_csv('ab_data.csv')\n",
    "df.head()"
   ]
  },
  {
   "cell_type": "markdown",
   "metadata": {},
   "source": [
    "b. Use the below cell to find the number of rows in the dataset."
   ]
  },
  {
   "cell_type": "code",
   "execution_count": 43,
   "metadata": {},
   "outputs": [
    {
     "data": {
      "text/plain": [
       "294478"
      ]
     },
     "execution_count": 43,
     "metadata": {},
     "output_type": "execute_result"
    }
   ],
   "source": [
    "df.shape[0]"
   ]
  },
  {
   "cell_type": "code",
   "execution_count": null,
   "metadata": {},
   "outputs": [],
   "source": []
  },
  {
   "cell_type": "markdown",
   "metadata": {},
   "source": [
    "c. The number of unique users in the dataset."
   ]
  },
  {
   "cell_type": "code",
   "execution_count": 44,
   "metadata": {},
   "outputs": [
    {
     "data": {
      "text/plain": [
       "290584"
      ]
     },
     "execution_count": 44,
     "metadata": {},
     "output_type": "execute_result"
    }
   ],
   "source": [
    "df['user_id'].nunique()"
   ]
  },
  {
   "cell_type": "markdown",
   "metadata": {
    "collapsed": true
   },
   "source": [
    "d. The proportion of users converted."
   ]
  },
  {
   "cell_type": "code",
   "execution_count": 45,
   "metadata": {},
   "outputs": [
    {
     "data": {
      "text/plain": [
       "0.11965919355605512"
      ]
     },
     "execution_count": 45,
     "metadata": {},
     "output_type": "execute_result"
    }
   ],
   "source": [
    "df['converted'].mean()"
   ]
  },
  {
   "cell_type": "markdown",
   "metadata": {
    "collapsed": true
   },
   "source": [
    "e. The number of times the `new_page` and `treatment` don't line up."
   ]
  },
  {
   "cell_type": "code",
   "execution_count": 46,
   "metadata": {},
   "outputs": [
    {
     "data": {
      "text/plain": [
       "3893"
      ]
     },
     "execution_count": 46,
     "metadata": {},
     "output_type": "execute_result"
    }
   ],
   "source": [
    "g1 = len(df.query('group!=\"treatment\" and landing_page==\"new_page\"'))\n",
    "g2 = len(df.query('group!=\"control\" and landing_page==\"old_page\"'))\n",
    "group = g1 + g2\n",
    "group"
   ]
  },
  {
   "cell_type": "markdown",
   "metadata": {},
   "source": [
    "f. Do any of the rows have missing values?"
   ]
  },
  {
   "cell_type": "code",
   "execution_count": 47,
   "metadata": {},
   "outputs": [
    {
     "name": "stdout",
     "output_type": "stream",
     "text": [
      "<class 'pandas.core.frame.DataFrame'>\n",
      "RangeIndex: 294478 entries, 0 to 294477\n",
      "Data columns (total 5 columns):\n",
      " #   Column        Non-Null Count   Dtype \n",
      "---  ------        --------------   ----- \n",
      " 0   user_id       294478 non-null  int64 \n",
      " 1   timestamp     294478 non-null  object\n",
      " 2   group         294478 non-null  object\n",
      " 3   landing_page  294478 non-null  object\n",
      " 4   converted     294478 non-null  int64 \n",
      "dtypes: int64(2), object(3)\n",
      "memory usage: 11.2+ MB\n"
     ]
    },
    {
     "data": {
      "text/plain": [
       "user_id         0\n",
       "timestamp       0\n",
       "group           0\n",
       "landing_page    0\n",
       "converted       0\n",
       "dtype: int64"
      ]
     },
     "execution_count": 47,
     "metadata": {},
     "output_type": "execute_result"
    }
   ],
   "source": [
    "df.info()\n",
    "df.isnull().sum()"
   ]
  },
  {
   "cell_type": "markdown",
   "metadata": {},
   "source": [
    "`2.` For the rows where **treatment** is not aligned with **new_page** or **control** is not aligned with **old_page**, we cannot be sure if this row truly received the new or old page.  Use **Quiz 2** in the classroom to provide how we should handle these rows.  \n",
    "\n",
    "a. Now use the answer to the quiz to create a new dataset that meets the specifications from the quiz.  Store your new dataframe in **df2**."
   ]
  },
  {
   "cell_type": "code",
   "execution_count": 48,
   "metadata": {},
   "outputs": [],
   "source": [
    "df2 = df.query(\"(group == 'control' and landing_page == 'old_page') or (group == 'treatment' and landing_page == 'new_page')\")"
   ]
  },
  {
   "cell_type": "code",
   "execution_count": 49,
   "metadata": {},
   "outputs": [
    {
     "data": {
      "text/plain": [
       "0"
      ]
     },
     "execution_count": 49,
     "metadata": {},
     "output_type": "execute_result"
    }
   ],
   "source": [
    "# Double Check all of the correct rows were removed - this should be 0\n",
    "df2[((df2['group'] == 'treatment') == (df2['landing_page'] == 'new_page')) == False].shape[0]"
   ]
  },
  {
   "cell_type": "markdown",
   "metadata": {},
   "source": [
    "`3.` Use **df2** and the cells below to answer questions for **Quiz3** in the classroom."
   ]
  },
  {
   "cell_type": "markdown",
   "metadata": {},
   "source": [
    "a. How many unique **user_id**s are in **df2**?"
   ]
  },
  {
   "cell_type": "code",
   "execution_count": 50,
   "metadata": {},
   "outputs": [
    {
     "data": {
      "text/plain": [
       "290584"
      ]
     },
     "execution_count": 50,
     "metadata": {},
     "output_type": "execute_result"
    }
   ],
   "source": [
    "df2.user_id.nunique()"
   ]
  },
  {
   "cell_type": "markdown",
   "metadata": {
    "collapsed": true
   },
   "source": [
    "b. There is one **user_id** repeated in **df2**.  What is it?"
   ]
  },
  {
   "cell_type": "code",
   "execution_count": 51,
   "metadata": {},
   "outputs": [
    {
     "data": {
      "text/plain": [
       "array([773192], dtype=int64)"
      ]
     },
     "execution_count": 51,
     "metadata": {},
     "output_type": "execute_result"
    }
   ],
   "source": [
    "df2[df2.duplicated(['user_id'])]['user_id'].unique()"
   ]
  },
  {
   "cell_type": "markdown",
   "metadata": {},
   "source": [
    "c. What is the row information for the repeat **user_id**? "
   ]
  },
  {
   "cell_type": "code",
   "execution_count": 52,
   "metadata": {},
   "outputs": [
    {
     "data": {
      "text/html": [
       "<div>\n",
       "<style scoped>\n",
       "    .dataframe tbody tr th:only-of-type {\n",
       "        vertical-align: middle;\n",
       "    }\n",
       "\n",
       "    .dataframe tbody tr th {\n",
       "        vertical-align: top;\n",
       "    }\n",
       "\n",
       "    .dataframe thead th {\n",
       "        text-align: right;\n",
       "    }\n",
       "</style>\n",
       "<table border=\"1\" class=\"dataframe\">\n",
       "  <thead>\n",
       "    <tr style=\"text-align: right;\">\n",
       "      <th></th>\n",
       "      <th>user_id</th>\n",
       "      <th>timestamp</th>\n",
       "      <th>group</th>\n",
       "      <th>landing_page</th>\n",
       "      <th>converted</th>\n",
       "    </tr>\n",
       "  </thead>\n",
       "  <tbody>\n",
       "    <tr>\n",
       "      <th>2893</th>\n",
       "      <td>773192</td>\n",
       "      <td>2017-01-14 02:55:59.590927</td>\n",
       "      <td>treatment</td>\n",
       "      <td>new_page</td>\n",
       "      <td>0</td>\n",
       "    </tr>\n",
       "  </tbody>\n",
       "</table>\n",
       "</div>"
      ],
      "text/plain": [
       "      user_id                   timestamp      group landing_page  converted\n",
       "2893   773192  2017-01-14 02:55:59.590927  treatment     new_page          0"
      ]
     },
     "execution_count": 52,
     "metadata": {},
     "output_type": "execute_result"
    }
   ],
   "source": [
    "df2.loc[df2.user_id.duplicated()]"
   ]
  },
  {
   "cell_type": "markdown",
   "metadata": {},
   "source": [
    "d. Remove **one** of the rows with a duplicate **user_id**, but keep your dataframe as **df2**."
   ]
  },
  {
   "cell_type": "code",
   "execution_count": 53,
   "metadata": {},
   "outputs": [
    {
     "data": {
      "text/plain": [
       "0"
      ]
     },
     "execution_count": 53,
     "metadata": {},
     "output_type": "execute_result"
    }
   ],
   "source": [
    "sum(df2.duplicated())"
   ]
  },
  {
   "cell_type": "code",
   "execution_count": 54,
   "metadata": {},
   "outputs": [
    {
     "data": {
      "text/plain": [
       "0"
      ]
     },
     "execution_count": 54,
     "metadata": {},
     "output_type": "execute_result"
    }
   ],
   "source": [
    "df2 = df2.drop_duplicates(subset='user_id')\n",
    "sum(df2.duplicated())"
   ]
  },
  {
   "cell_type": "markdown",
   "metadata": {},
   "source": [
    "`4.` Use **df2** in the below cells to answer the quiz questions related to **Quiz 4** in the classroom.\n",
    "\n",
    "a. What is the probability of an individual converting regardless of the page they receive?"
   ]
  },
  {
   "cell_type": "code",
   "execution_count": 55,
   "metadata": {},
   "outputs": [
    {
     "data": {
      "text/plain": [
       "0.11959708724499628"
      ]
     },
     "execution_count": 55,
     "metadata": {},
     "output_type": "execute_result"
    }
   ],
   "source": [
    "df2['converted'].mean()"
   ]
  },
  {
   "cell_type": "markdown",
   "metadata": {},
   "source": [
    "b. Given that an individual was in the `control` group, what is the probability they converted?"
   ]
  },
  {
   "cell_type": "code",
   "execution_count": 56,
   "metadata": {},
   "outputs": [
    {
     "data": {
      "text/plain": [
       "0.1203863045004612"
      ]
     },
     "execution_count": 56,
     "metadata": {},
     "output_type": "execute_result"
    }
   ],
   "source": [
    "df2[df2['group'] == 'control']['converted'].mean()"
   ]
  },
  {
   "cell_type": "markdown",
   "metadata": {},
   "source": [
    "c. Given that an individual was in the `treatment` group, what is the probability they converted?"
   ]
  },
  {
   "cell_type": "code",
   "execution_count": 57,
   "metadata": {},
   "outputs": [
    {
     "data": {
      "text/plain": [
       "0.11880806551510564"
      ]
     },
     "execution_count": 57,
     "metadata": {},
     "output_type": "execute_result"
    }
   ],
   "source": [
    "df2[df2['group'] == 'treatment']['converted'].mean()\n"
   ]
  },
  {
   "cell_type": "markdown",
   "metadata": {},
   "source": [
    "d. What is the probability that an individual received the new page?"
   ]
  },
  {
   "cell_type": "code",
   "execution_count": 58,
   "metadata": {},
   "outputs": [
    {
     "data": {
      "text/plain": [
       "0.5000619442226688"
      ]
     },
     "execution_count": 58,
     "metadata": {},
     "output_type": "execute_result"
    }
   ],
   "source": [
    "len(df2.query(\"landing_page == 'new_page'\")) / df2.shape[0]"
   ]
  },
  {
   "cell_type": "markdown",
   "metadata": {},
   "source": [
    "e. Consider your results from a. through d. above, and explain below whether you think there is sufficient evidence to say that the new treatment page leads to more conversions."
   ]
  },
  {
   "cell_type": "markdown",
   "metadata": {},
   "source": [
    "**From the above data, we can see that the number of individuals who converted from given individual is in control group is 0.1203863045004612, And Probability of individual converting given individual is in treatment group is 0.11880806551510564.\n",
    "there is no concrete evidence suggesting that those who explore either page will neccessary lead to more conversions.**"
   ]
  },
  {
   "cell_type": "markdown",
   "metadata": {},
   "source": [
    "<a id='ab_test'></a>\n",
    "### Part II - A/B Test\n",
    "\n",
    "Notice that because of the time stamp associated with each event, you could technically run a hypothesis test continuously as each observation was observed.  \n",
    "\n",
    "However, then the hard question is do you stop as soon as one page is considered significantly better than another or does it need to happen consistently for a certain amount of time?  How long do you run to render a decision that neither page is better than another?  \n",
    "\n",
    "These questions are the difficult parts associated with A/B tests in general.  \n",
    "\n",
    "\n",
    "`1.` For now, consider you need to make the decision just based on all the data provided.  If you want to assume that the old page is better unless the new page proves to be definitely better at a Type I error rate of 5%, what should your null and alternative hypotheses be?  You can state your hypothesis in terms of words or in terms of **$p_{old}$** and **$p_{new}$**, which are the converted rates for the old and new pages."
   ]
  },
  {
   "attachments": {
    "math3.svg": {
     "image/svg+xml": [
      "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"
     ]
    }
   },
   "cell_type": "markdown",
   "metadata": {},
   "source": [
    "![math3.svg](attachment:math3.svg)"
   ]
  },
  {
   "cell_type": "markdown",
   "metadata": {},
   "source": [
    "`2.` Assume under the null hypothesis, $p_{new}$ and $p_{old}$ both have \"true\" success rates equal to the **converted** success rate regardless of page - that is $p_{new}$ and $p_{old}$ are equal. Furthermore, assume they are equal to the **converted** rate in **ab_data.csv** regardless of the page. <br><br>\n",
    "\n",
    "Use a sample size for each page equal to the ones in **ab_data.csv**.  <br><br>\n",
    "\n",
    "Perform the sampling distribution for the difference in **converted** between the two pages over 10,000 iterations of calculating an estimate from the null.  <br><br>\n",
    "\n",
    "Use the cells below to provide the necessary parts of this simulation.  If this doesn't make complete sense right now, don't worry - you are going to work through the problems below to complete this problem.  You can use **Quiz 5** in the classroom to make sure you are on the right track.<br><br>"
   ]
  },
  {
   "cell_type": "markdown",
   "metadata": {},
   "source": [
    "a. What is the **convert rate** for $p_{new}$ under the null? "
   ]
  },
  {
   "cell_type": "code",
   "execution_count": 59,
   "metadata": {},
   "outputs": [
    {
     "data": {
      "text/plain": [
       "0.11959708724499628"
      ]
     },
     "execution_count": 59,
     "metadata": {},
     "output_type": "execute_result"
    }
   ],
   "source": [
    "p_new = df2['converted'].mean()\n",
    "p_new"
   ]
  },
  {
   "cell_type": "markdown",
   "metadata": {},
   "source": [
    "b. What is the **convert rate** for $p_{old}$ under the null? <br><br>"
   ]
  },
  {
   "cell_type": "code",
   "execution_count": 60,
   "metadata": {},
   "outputs": [
    {
     "data": {
      "text/plain": [
       "0.11959708724499628"
      ]
     },
     "execution_count": 60,
     "metadata": {},
     "output_type": "execute_result"
    }
   ],
   "source": [
    "p_old = df2['converted'].mean()\n",
    "p_old"
   ]
  },
  {
   "cell_type": "markdown",
   "metadata": {},
   "source": [
    "c. What is $n_{new}$?"
   ]
  },
  {
   "cell_type": "code",
   "execution_count": 61,
   "metadata": {},
   "outputs": [
    {
     "data": {
      "text/plain": [
       "145310"
      ]
     },
     "execution_count": 61,
     "metadata": {},
     "output_type": "execute_result"
    }
   ],
   "source": [
    "n_new = df2[df2['group'] == 'treatment'].shape[0]\n",
    "n_new"
   ]
  },
  {
   "cell_type": "markdown",
   "metadata": {},
   "source": [
    "d. What is $n_{old}$?"
   ]
  },
  {
   "cell_type": "code",
   "execution_count": 62,
   "metadata": {},
   "outputs": [
    {
     "data": {
      "text/plain": [
       "145274"
      ]
     },
     "execution_count": 62,
     "metadata": {},
     "output_type": "execute_result"
    }
   ],
   "source": [
    "n_old = df2[df2['group'] == 'control'].shape[0]\n",
    "n_old"
   ]
  },
  {
   "cell_type": "markdown",
   "metadata": {},
   "source": [
    "e. Simulate $n_{new}$ transactions with a convert rate of $p_{new}$ under the null.  Store these $n_{new}$ 1's and 0's in **new_page_converted**."
   ]
  },
  {
   "cell_type": "code",
   "execution_count": 63,
   "metadata": {},
   "outputs": [],
   "source": [
    "new_page_converted = np.random.binomial(n_new,p_new)"
   ]
  },
  {
   "cell_type": "markdown",
   "metadata": {},
   "source": [
    "f. Simulate $n_{old}$ transactions with a convert rate of $p_{old}$ under the null.  Store these $n_{old}$ 1's and 0's in **old_page_converted**."
   ]
  },
  {
   "cell_type": "code",
   "execution_count": 64,
   "metadata": {},
   "outputs": [],
   "source": [
    "old_page_converted = np.random.binomial(n_old,p_old)"
   ]
  },
  {
   "cell_type": "markdown",
   "metadata": {},
   "source": [
    "g. Find $p_{new}$ - $p_{old}$ for your simulated values from part (e) and (f)."
   ]
  },
  {
   "cell_type": "code",
   "execution_count": 65,
   "metadata": {},
   "outputs": [
    {
     "data": {
      "text/plain": [
       "0.0002664059034283156"
      ]
     },
     "execution_count": 65,
     "metadata": {},
     "output_type": "execute_result"
    }
   ],
   "source": [
    "new_page_converted/n_new - old_page_converted/n_old"
   ]
  },
  {
   "cell_type": "markdown",
   "metadata": {},
   "source": [
    "h. Simulate 10,000 $p_{new}$ - $p_{old}$ values using this same process similarly to the one you calculated in parts **a. through g.** above.  Store all 10,000 values in a numpy array called **p_diffs**."
   ]
  },
  {
   "cell_type": "code",
   "execution_count": 66,
   "metadata": {},
   "outputs": [],
   "source": [
    "p_diffs = []\n",
    "for _ in range(10000):\n",
    "    new_page_converted = np.random.binomial(n_new,p_new)\n",
    "    old_page_converted = np.random.binomial(n_old, p_old)\n",
    "    diff = new_page_converted/n_new - old_page_converted/n_old\n",
    "    p_diffs.append(diff)"
   ]
  },
  {
   "cell_type": "markdown",
   "metadata": {},
   "source": [
    "i. Plot a histogram of the **p_diffs**.  Does this plot look like what you expected?  Use the matching problem in the classroom to assure you fully understand what was computed here."
   ]
  },
  {
   "cell_type": "code",
   "execution_count": 67,
   "metadata": {},
   "outputs": [
    {
     "data": {
      "text/plain": [
       "Text(0, 0.5, 'Count')"
      ]
     },
     "execution_count": 67,
     "metadata": {},
     "output_type": "execute_result"
    },
    {
     "data": {
      "image/png": "[encoded data removed]",
      "text/plain": [
       "<Figure size 432x288 with 1 Axes>"
      ]
     },
     "metadata": {
      "needs_background": "light"
     },
     "output_type": "display_data"
    }
   ],
   "source": [
    "plt.hist(p_diffs , color= 'g' )\n",
    "plt.title('Graph p_diffs')\n",
    "plt.xlabel('Difference') \n",
    "plt.ylabel('Count')"
   ]
  },
  {
   "cell_type": "code",
   "execution_count": null,
   "metadata": {},
   "outputs": [],
   "source": []
  },
  {
   "cell_type": "markdown",
   "metadata": {},
   "source": [
    "j. What proportion of the **p_diffs** are greater than the actual difference observed in **ab_data.csv**?"
   ]
  },
  {
   "cell_type": "code",
   "execution_count": 68,
   "metadata": {},
   "outputs": [
    {
     "name": "stdout",
     "output_type": "stream",
     "text": [
      "-0.0015782389853555567\n"
     ]
    },
    {
     "data": {
      "text/plain": [
       "0.9099"
      ]
     },
     "execution_count": 68,
     "metadata": {},
     "output_type": "execute_result"
    }
   ],
   "source": [
    "actual_d = df2[df2['group'] == 'treatment']['converted'].mean() -  df2[df2['group'] == 'control']['converted'].mean()\n",
    "print(actual_d)\n",
    "p_diffs = np.array(p_diffs)\n",
    "(actual_d < p_diffs).mean()"
   ]
  },
  {
   "cell_type": "code",
   "execution_count": 69,
   "metadata": {},
   "outputs": [
    {
     "data": {
      "image/png": "[encoded data removed]",
      "text/plain": [
       "<Figure size 432x288 with 1 Axes>"
      ]
     },
     "metadata": {
      "needs_background": "light"
     },
     "output_type": "display_data"
    }
   ],
   "source": [
    "plt.hist(p_diffs , color= 'g' );\n",
    "plt.axvline(actual_d, c='red');"
   ]
  },
  {
   "cell_type": "markdown",
   "metadata": {},
   "source": [
    "k. In words, explain what you just computed in part **j.**  What is this value called in scientific studies?  What does this value mean in terms of whether or not there is a difference between the new and old pages?"
   ]
  },
  {
   "cell_type": "markdown",
   "metadata": {},
   "source": [
    "**This is p_value.\n",
    "In the previous part, we were calculating the p-value whichis the probability of obtaining results as extreme as the observed results of a statistical hypothesis test, assuming that the null hypothesis is correct. The p-value is used as an alternative to rejection points to provide the smallest level of significance at which the null hypothesis would be rejected. ( A smaller p-value means that there is stronger evidence in favor of the alternative hypothesis) .\n",
    "so a very large p-value indicates weak evidence against the null hypothesis, so you fail to reject the null hypothesis which suggests the new page conversion rate is higher than the old rate.**"
   ]
  },
  {
   "cell_type": "markdown",
   "metadata": {},
   "source": [
    "l. We could also use a built-in to achieve similar results.  Though using the built-in might be easier to code, the above portions are a walkthrough of the ideas that are critical to correctly thinking about statistical significance. Fill in the below to calculate the number of conversions for each page, as well as the number of individuals who received each page. Let `n_old` and `n_new` refer the the number of rows associated with the old page and new pages, respectively."
   ]
  },
  {
   "cell_type": "code",
   "execution_count": 70,
   "metadata": {},
   "outputs": [
    {
     "data": {
      "text/plain": [
       "(17489, 17264, 145274, 145310)"
      ]
     },
     "execution_count": 70,
     "metadata": {},
     "output_type": "execute_result"
    }
   ],
   "source": [
    "import statsmodels.api as sm\n",
    "\n",
    "c_old = df2.query(\" landing_page == 'old_page' and converted == 1\").shape[0]\n",
    "c_new = df2.query(\" landing_page == 'new_page' and converted == 1\").shape[0]\n",
    "n_old = df2[df2['group'] == 'control'].shape[0]\n",
    "n_new = df2[df2['group'] == 'treatment'].shape[0]\n",
    "c_old, c_new , n_old, n_new\n"
   ]
  },
  {
   "cell_type": "markdown",
   "metadata": {},
   "source": [
    "m. Now use `stats.proportions_ztest` to compute your test statistic and p-value.  [Here](http://knowledgetack.com/python/statsmodels/proportions_ztest/) is a helpful link on using the built in."
   ]
  },
  {
   "cell_type": "code",
   "execution_count": 71,
   "metadata": {},
   "outputs": [
    {
     "name": "stdout",
     "output_type": "stream",
     "text": [
      "z_score = 1.3109241984234394\n",
      "p_value = 0.9050583127590245\n"
     ]
    }
   ],
   "source": [
    "z_score, p_value = sm.stats.proportions_ztest([c_old, c_new], [n_old, n_new], alternative='smaller')\n",
    "print('z_score =',z_score)\n",
    "print('p_value =',p_value)"
   ]
  },
  {
   "cell_type": "code",
   "execution_count": 72,
   "metadata": {},
   "outputs": [
    {
     "data": {
      "text/plain": [
       "0.9050583127590245"
      ]
     },
     "execution_count": 72,
     "metadata": {},
     "output_type": "execute_result"
    }
   ],
   "source": [
    "from scipy.stats import norm\n",
    "\n",
    "norm.cdf(z_score)"
   ]
  },
  {
   "cell_type": "code",
   "execution_count": 73,
   "metadata": {},
   "outputs": [
    {
     "name": "stdout",
     "output_type": "stream",
     "text": [
      "1.6448536269514722\n"
     ]
    }
   ],
   "source": [
    "print(norm.ppf(1-(0.05)))"
   ]
  },
  {
   "cell_type": "markdown",
   "metadata": {},
   "source": [
    "n. What do the z-score and p-value you computed in the previous question mean for the conversion rates of the old and new pages?  Do they agree with the findings in parts **j.** and **k.**?"
   ]
  },
  {
   "cell_type": "markdown",
   "metadata": {},
   "source": [
    "**Since the z-score of 1.31 less than the critical value of 1.6448536269514722 ,Hence we fail to reject null hypothesis. . Therefore  yes I agree with findings in parts j. and k.\n",
    ".**"
   ]
  },
  {
   "cell_type": "markdown",
   "metadata": {},
   "source": [
    "<a id='regression'></a>\n",
    "### Part III - A regression approach\n",
    "\n",
    "`1.` In this final part, you will see that the result you acheived in the previous A/B test can also be acheived by performing regression.<br><br>\n",
    "\n",
    "a. Since each row is either a conversion or no conversion, what type of regression should you be performing in this case?"
   ]
  },
  {
   "cell_type": "markdown",
   "metadata": {},
   "source": [
    "**Logistic Regression\n",
    ".**"
   ]
  },
  {
   "cell_type": "markdown",
   "metadata": {},
   "source": [
    "b. The goal is to use **statsmodels** to fit the regression model you specified in part **a.** to see if there is a significant difference in conversion based on which page a customer receives.  However, you first need to create a column for the intercept, and create a dummy variable column for which page each user received.  Add an **intercept** column, as well as an **ab_page** column, which is 1 when an individual receives the **treatment** and 0 if **control**."
   ]
  },
  {
   "cell_type": "code",
   "execution_count": 74,
   "metadata": {},
   "outputs": [],
   "source": [
    "df2['intercept'] = 1\n",
    "df2[['control','treatment']] = pd.get_dummies(df2['group'])"
   ]
  },
  {
   "cell_type": "markdown",
   "metadata": {},
   "source": [
    "c. Use **statsmodels** to import your regression model.  Instantiate the model, and fit the model using the two columns you created in part **b.** to predict whether or not an individual converts."
   ]
  },
  {
   "cell_type": "code",
   "execution_count": 75,
   "metadata": {},
   "outputs": [],
   "source": [
    "import statsmodels.api as sm\n",
    "\n",
    "logit = sm.Logit(df2['converted'],df2[['intercept' ,'treatment']])\n"
   ]
  },
  {
   "cell_type": "code",
   "execution_count": 76,
   "metadata": {},
   "outputs": [
    {
     "name": "stdout",
     "output_type": "stream",
     "text": [
      "Optimization terminated successfully.\n",
      "         Current function value: 0.366118\n",
      "         Iterations 6\n"
     ]
    }
   ],
   "source": [
    "results = logit.fit()"
   ]
  },
  {
   "cell_type": "markdown",
   "metadata": {},
   "source": [
    "d. Provide the summary of your model below, and use it as necessary to answer the following questions."
   ]
  },
  {
   "cell_type": "code",
   "execution_count": 77,
   "metadata": {},
   "outputs": [
    {
     "data": {
      "text/html": [
       "<table class=\"simpletable\">\n",
       "<caption>Logit Regression Results</caption>\n",
       "<tr>\n",
       "  <th>Dep. Variable:</th>       <td>converted</td>    <th>  No. Observations:  </th>   <td>290584</td>   \n",
       "</tr>\n",
       "<tr>\n",
       "  <th>Model:</th>                 <td>Logit</td>      <th>  Df Residuals:      </th>   <td>290582</td>   \n",
       "</tr>\n",
       "<tr>\n",
       "  <th>Method:</th>                 <td>MLE</td>       <th>  Df Model:          </th>   <td>     1</td>   \n",
       "</tr>\n",
       "<tr>\n",
       "  <th>Date:</th>            <td>Tue, 05 May 2020</td> <th>  Pseudo R-squ.:     </th>  <td>8.077e-06</td> \n",
       "</tr>\n",
       "<tr>\n",
       "  <th>Time:</th>                <td>22:03:46</td>     <th>  Log-Likelihood:    </th> <td>-1.0639e+05</td>\n",
       "</tr>\n",
       "<tr>\n",
       "  <th>converged:</th>             <td>True</td>       <th>  LL-Null:           </th> <td>-1.0639e+05</td>\n",
       "</tr>\n",
       "<tr>\n",
       "  <th>Covariance Type:</th>     <td>nonrobust</td>    <th>  LLR p-value:       </th>   <td>0.1899</td>   \n",
       "</tr>\n",
       "</table>\n",
       "<table class=\"simpletable\">\n",
       "<tr>\n",
       "      <td></td>         <th>coef</th>     <th>std err</th>      <th>z</th>      <th>P>|z|</th>  <th>[0.025</th>    <th>0.975]</th>  \n",
       "</tr>\n",
       "<tr>\n",
       "  <th>intercept</th> <td>   -1.9888</td> <td>    0.008</td> <td> -246.669</td> <td> 0.000</td> <td>   -2.005</td> <td>   -1.973</td>\n",
       "</tr>\n",
       "<tr>\n",
       "  <th>treatment</th> <td>   -0.0150</td> <td>    0.011</td> <td>   -1.311</td> <td> 0.190</td> <td>   -0.037</td> <td>    0.007</td>\n",
       "</tr>\n",
       "</table>"
      ],
      "text/plain": [
       "<class 'statsmodels.iolib.summary.Summary'>\n",
       "\"\"\"\n",
       "                           Logit Regression Results                           \n",
       "==============================================================================\n",
       "Dep. Variable:              converted   No. Observations:               290584\n",
       "Model:                          Logit   Df Residuals:                   290582\n",
       "Method:                           MLE   Df Model:                            1\n",
       "Date:                Tue, 05 May 2020   Pseudo R-squ.:               8.077e-06\n",
       "Time:                        22:03:46   Log-Likelihood:            -1.0639e+05\n",
       "converged:                       True   LL-Null:                   -1.0639e+05\n",
       "Covariance Type:            nonrobust   LLR p-value:                    0.1899\n",
       "==============================================================================\n",
       "                 coef    std err          z      P>|z|      [0.025      0.975]\n",
       "------------------------------------------------------------------------------\n",
       "intercept     -1.9888      0.008   -246.669      0.000      -2.005      -1.973\n",
       "treatment     -0.0150      0.011     -1.311      0.190      -0.037       0.007\n",
       "==============================================================================\n",
       "\"\"\""
      ]
     },
     "execution_count": 77,
     "metadata": {},
     "output_type": "execute_result"
    }
   ],
   "source": [
    "results.summary()"
   ]
  },
  {
   "cell_type": "markdown",
   "metadata": {},
   "source": [
    "e. What is the p-value associated with **ab_page**? Why does it differ from the value you found in **Part II**?<br><br>  **Hint**: What are the null and alternative hypotheses associated with your regression model, and how do they compare to the null and alternative hypotheses in the **Part II**?"
   ]
  },
  {
   "attachments": {
    "matha.svg": {
     "image/svg+xml": [
      "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"
     ]
    }
   },
   "cell_type": "markdown",
   "metadata": {},
   "source": [
    "![matha.svg](attachment:matha.svg)"
   ]
  },
  {
   "cell_type": "markdown",
   "metadata": {},
   "source": [
    "f. Now, you are considering other things that might influence whether or not an individual converts.  Discuss why it is a good idea to consider other factors to add into your regression model.  Are there any disadvantages to adding additional terms into your regression model?"
   ]
  },
  {
   "cell_type": "markdown",
   "metadata": {},
   "source": [
    "**It is a good idea to consider other factors because they may also influence the conversions**\n",
    "\n",
    "**Yes , the disadvantage is every time we include a newadditional terms  with no change in sample size we lose a degree of freedom.**"
   ]
  },
  {
   "cell_type": "markdown",
   "metadata": {},
   "source": [
    "g. Now along with testing if the conversion rate changes for different pages, also add an effect based on which country a user lives. You will need to read in the **countries.csv** dataset and merge together your datasets on the approporiate rows.  [Here](https://pandas.pydata.org/pandas-docs/stable/generated/pandas.DataFrame.join.html) are the docs for joining tables. \n",
    "\n",
    "Does it appear that country had an impact on conversion?  Don't forget to create dummy variables for these country columns - **Hint: You will need two columns for the three dummy variables.** Provide the statistical output as well as a written response to answer this question."
   ]
  },
  {
   "cell_type": "code",
   "execution_count": 78,
   "metadata": {},
   "outputs": [],
   "source": [
    "countries_df = pd.read_csv('countries.csv')\n",
    "df_new = countries_df.set_index('user_id').join(df2.set_index('user_id'), how='inner')"
   ]
  },
  {
   "cell_type": "code",
   "execution_count": 79,
   "metadata": {},
   "outputs": [],
   "source": [
    "### Create the necessary dummy variables\n",
    "df_new['intercept'] = 1\n",
    "df_new[['CA','US']] = pd.get_dummies(df_new['country'])[['CA','US']]"
   ]
  },
  {
   "cell_type": "markdown",
   "metadata": {},
   "source": [
    "h. Though you have now looked at the individual factors of country and page on conversion, we would now like to look at an interaction between page and country to see if there significant effects on conversion.  Create the necessary additional columns, and fit the new model.  \n",
    "\n",
    "Provide the summary results, and your conclusions based on the results."
   ]
  },
  {
   "cell_type": "code",
   "execution_count": 80,
   "metadata": {},
   "outputs": [],
   "source": [
    "### Fit Your Linear Model And Obtain the Results\n",
    "mod = sm.Logit(df_new['converted'], df_new[['intercept', 'US', 'CA']])"
   ]
  },
  {
   "cell_type": "code",
   "execution_count": 81,
   "metadata": {},
   "outputs": [
    {
     "name": "stdout",
     "output_type": "stream",
     "text": [
      "Optimization terminated successfully.\n",
      "         Current function value: 0.366116\n",
      "         Iterations 6\n"
     ]
    }
   ],
   "source": [
    "results = mod.fit()"
   ]
  },
  {
   "cell_type": "code",
   "execution_count": 82,
   "metadata": {},
   "outputs": [
    {
     "data": {
      "text/html": [
       "<table class=\"simpletable\">\n",
       "<caption>Logit Regression Results</caption>\n",
       "<tr>\n",
       "  <th>Dep. Variable:</th>       <td>converted</td>    <th>  No. Observations:  </th>   <td>290584</td>   \n",
       "</tr>\n",
       "<tr>\n",
       "  <th>Model:</th>                 <td>Logit</td>      <th>  Df Residuals:      </th>   <td>290581</td>   \n",
       "</tr>\n",
       "<tr>\n",
       "  <th>Method:</th>                 <td>MLE</td>       <th>  Df Model:          </th>   <td>     2</td>   \n",
       "</tr>\n",
       "<tr>\n",
       "  <th>Date:</th>            <td>Tue, 05 May 2020</td> <th>  Pseudo R-squ.:     </th>  <td>1.521e-05</td> \n",
       "</tr>\n",
       "<tr>\n",
       "  <th>Time:</th>                <td>22:03:51</td>     <th>  Log-Likelihood:    </th> <td>-1.0639e+05</td>\n",
       "</tr>\n",
       "<tr>\n",
       "  <th>converged:</th>             <td>True</td>       <th>  LL-Null:           </th> <td>-1.0639e+05</td>\n",
       "</tr>\n",
       "<tr>\n",
       "  <th>Covariance Type:</th>     <td>nonrobust</td>    <th>  LLR p-value:       </th>   <td>0.1984</td>   \n",
       "</tr>\n",
       "</table>\n",
       "<table class=\"simpletable\">\n",
       "<tr>\n",
       "      <td></td>         <th>coef</th>     <th>std err</th>      <th>z</th>      <th>P>|z|</th>  <th>[0.025</th>    <th>0.975]</th>  \n",
       "</tr>\n",
       "<tr>\n",
       "  <th>intercept</th> <td>   -1.9868</td> <td>    0.011</td> <td> -174.174</td> <td> 0.000</td> <td>   -2.009</td> <td>   -1.964</td>\n",
       "</tr>\n",
       "<tr>\n",
       "  <th>US</th>        <td>   -0.0099</td> <td>    0.013</td> <td>   -0.746</td> <td> 0.456</td> <td>   -0.036</td> <td>    0.016</td>\n",
       "</tr>\n",
       "<tr>\n",
       "  <th>CA</th>        <td>   -0.0507</td> <td>    0.028</td> <td>   -1.786</td> <td> 0.074</td> <td>   -0.106</td> <td>    0.005</td>\n",
       "</tr>\n",
       "</table>"
      ],
      "text/plain": [
       "<class 'statsmodels.iolib.summary.Summary'>\n",
       "\"\"\"\n",
       "                           Logit Regression Results                           \n",
       "==============================================================================\n",
       "Dep. Variable:              converted   No. Observations:               290584\n",
       "Model:                          Logit   Df Residuals:                   290581\n",
       "Method:                           MLE   Df Model:                            2\n",
       "Date:                Tue, 05 May 2020   Pseudo R-squ.:               1.521e-05\n",
       "Time:                        22:03:51   Log-Likelihood:            -1.0639e+05\n",
       "converged:                       True   LL-Null:                   -1.0639e+05\n",
       "Covariance Type:            nonrobust   LLR p-value:                    0.1984\n",
       "==============================================================================\n",
       "                 coef    std err          z      P>|z|      [0.025      0.975]\n",
       "------------------------------------------------------------------------------\n",
       "intercept     -1.9868      0.011   -174.174      0.000      -2.009      -1.964\n",
       "US            -0.0099      0.013     -0.746      0.456      -0.036       0.016\n",
       "CA            -0.0507      0.028     -1.786      0.074      -0.106       0.005\n",
       "==============================================================================\n",
       "\"\"\""
      ]
     },
     "execution_count": 82,
     "metadata": {},
     "output_type": "execute_result"
    }
   ],
   "source": [
    "results.summary()"
   ]
  },
  {
   "cell_type": "markdown",
   "metadata": {},
   "source": [
    "<a id='conclusions'></a>\n",
    "## Conclusions\n",
    "\n",
    "Congratulations on completing the project! \n",
    "\n",
    "### Gather Submission Materials\n",
    "\n",
    "Once you are satisfied with the status of your Notebook, you should save it in a format that will make it easy for others to read. You can use the __File -> Download as -> HTML (.html)__ menu to save your notebook as an .html file. If you are working locally and get an error about \"No module name\", then open a terminal and try installing the missing module using `pip install <module_name>` (don't include the \"<\" or \">\" or any words following a period in the module name).\n",
    "\n",
    "You will submit both your original Notebook and an HTML or PDF copy of the Notebook for review. There is no need for you to include any data files with your submission. If you made reference to other websites, books, and other resources to help you in solving tasks in the project, make sure that you document them. It is recommended that you either add a \"Resources\" section in a Markdown cell at the end of the Notebook report, or you can include a `readme.txt` file documenting your sources.\n",
    "\n",
    "### Submit the Project\n",
    "\n",
    "When you're ready, click on the \"Submit Project\" button to go to the project submission page. You can submit your files as a .zip archive or you can link to a GitHub repository containing your project files. If you go with GitHub, note that your submission will be a snapshot of the linked repository at time of submission. It is recommended that you keep each project in a separate repository to avoid any potential confusion: if a reviewer gets multiple folders representing multiple projects, there might be confusion regarding what project is to be evaluated.\n",
    "\n",
    "It can take us up to a week to grade the project, but in most cases it is much faster. You will get an email once your submission has been reviewed. If you are having any problems submitting your project or wish to check on the status of your submission, please email us at dataanalyst-project@udacity.com. In the meantime, you should feel free to continue on with your learning journey by beginning the next module in the program."
   ]
  },
  {
   "cell_type": "code",
   "execution_count": null,
   "metadata": {},
   "outputs": [],
   "source": []
  }
 ],
 "metadata": {
  "kernelspec": {
   "display_name": "Python 3",
   "language": "python",
   "name": "python3"
  },
  "language_info": {
   "codemirror_mode": {
    "name": "ipython",
    "version": 3
   },
   "file_extension": ".py",
   "mimetype": "text/x-python",
   "name": "python",
   "nbconvert_exporter": "python",
   "pygments_lexer": "ipython3",
   "version": "3.7.6"
  }
 },
 "nbformat": 4,
 "nbformat_minor": 2
}
